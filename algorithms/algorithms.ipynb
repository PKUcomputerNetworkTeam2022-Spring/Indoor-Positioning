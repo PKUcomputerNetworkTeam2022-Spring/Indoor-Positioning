{
 "cells": [
  {
   "cell_type": "code",
   "execution_count": 1,
   "metadata": {},
   "outputs": [],
   "source": [
    "from typing import List, TypedDict, Tuple, Dict, Optional, Union\n",
    "SensorData = TypedDict('dict', A=float, N=float, x=float, y=float)\n",
    "Sensors = Dict[str, SensorData]\n",
    "SenseData = List[int]\n",
    "Distance = Tuple[str, float]\n",
    "Distances = List[Distance]\n",
    "Point = Tuple[float, float]"
   ]
  },
  {
   "cell_type": "markdown",
   "metadata": {},
   "source": [
    "# 手动输入数据"
   ]
  },
  {
   "cell_type": "code",
   "execution_count": 2,
   "metadata": {},
   "outputs": [],
   "source": [
    "# 根据嗅探器id填入数据，每个嗅探器的rssi值组成一个list\n",
    "sense_datas = [('00f4041c',[-70,-71,-72,-71]),('00f40443',[-66,-67,-68,-68]),('00f40463',[-66,-67,-68,-69])]\n",
    "# 真实结果\n",
    "true_position = [2.5,8.0]"
   ]
  },
  {
   "cell_type": "markdown",
   "metadata": {},
   "source": [
    "# 手动选择模式"
   ]
  },
  {
   "cell_type": "code",
   "execution_count": 3,
   "metadata": {},
   "outputs": [],
   "source": [
    "# 是否在计算距离时平均（平均所有），默认平均\n",
    "average_in_distance = True\n",
    "# 是否在计算最终点时平均（平均所有），默认不平均\n",
    "average_in_position = False\n",
    "# 'LSM'-最小二乘法， 其他字符串-三角形质心法\n",
    "way = 'LSM' #'CM' "
   ]
  },
  {
   "cell_type": "markdown",
   "metadata": {},
   "source": [
    "## 嗅探器参数（检查一下id）"
   ]
  },
  {
   "cell_type": "code",
   "execution_count": 4,
   "metadata": {},
   "outputs": [],
   "source": [
    "def get_sensors() -> Sensors:\n",
    "    '''获取id升序的嗅探器配置'''\n",
    "    sensor_ids = ['00f4041c','00f40443','00f40463']\n",
    "    sensors = {sensor_id: dict(\n",
    "            id=sensor_id,\n",
    "        ) for sensor_id in sensor_ids}\n",
    "    # 填补位置信息\n",
    "    positions = [[0.0, 0.0], [0.0, 10.2], [6.47, 10.2]]\n",
    "    # 暂用别组的参数\n",
    "    # A = 51.345\n",
    "    # N = 2.001\n",
    "    As = [54.44, 62.78, 51.15]\n",
    "    Ns = [1.98, 0.93, 2.69]\n",
    "    for sensor, position, A, N in zip(sensors.values(), positions, As, Ns):\n",
    "        sensor.update(\n",
    "            A=A,\n",
    "            N=N,\n",
    "            x=position[0],\n",
    "            y=position[1],\n",
    "        )\n",
    "    return sensors"
   ]
  },
  {
   "cell_type": "code",
   "execution_count": 5,
   "metadata": {},
   "outputs": [
    {
     "data": {
      "text/plain": [
       "{'00f4041c': {'id': '00f4041c', 'A': 54.44, 'N': 1.98, 'x': 0.0, 'y': 0.0},\n",
       " '00f40443': {'id': '00f40443', 'A': 62.78, 'N': 0.93, 'x': 0.0, 'y': 10.2},\n",
       " '00f40463': {'id': '00f40463', 'A': 51.15, 'N': 2.69, 'x': 6.47, 'y': 10.2}}"
      ]
     },
     "execution_count": 5,
     "metadata": {},
     "output_type": "execute_result"
    }
   ],
   "source": [
    "tmp_sensors = get_sensors()\n",
    "tmp_sensors"
   ]
  },
  {
   "cell_type": "markdown",
   "metadata": {},
   "source": [
    "## Get Distances"
   ]
  },
  {
   "cell_type": "code",
   "execution_count": 6,
   "metadata": {},
   "outputs": [],
   "source": [
    "def calculate_distance(sense_data: int, sensor: SensorData) -> float:\n",
    "    return pow(10, float((abs(sense_data) - sensor['A']) / (10 * sensor['N'])))\n",
    "\n",
    "def average_distance(distances_across_time:List[Distances]) -> List[Distances]:\n",
    "    '''\n",
    "    平均多个时刻的Distances为一个时刻的Distances\n",
    "    '''\n",
    "    # 保证多于2个时刻（后续会删除最大最小值）\n",
    "    if len(distances_across_time) <= 2:\n",
    "        return distances_across_time\n",
    "    distance_zip = zip(*[i for i in distances_across_time])\n",
    "    distance_average = []\n",
    "    for distance_  in distance_zip:\n",
    "        tmp = [distance[1] for distance in distance_] # List[float]\n",
    "        tmp.remove(max(tmp))\n",
    "        tmp.remove(min(tmp))\n",
    "        tmp_average = sum(tmp) / len(tmp)\n",
    "        distance_average.append ((distance_[0][0],tmp_average))\n",
    "    return [distance_average]\n",
    "\n",
    "def get_distances(sensors: Sensors,\n",
    "                  sense_datas: List[Tuple[str, SenseData]],\n",
    "                  average: bool = True,\n",
    "                  **cal_kws) -> List[Distances]:\n",
    "    \n",
    "    sensors_list = [sensors[sd[0]] for sd in sense_datas]\n",
    "    sense_datas_zip = zip(*[sd[1] for sd in sense_datas])\n",
    "    # 计算距离\n",
    "    distances_across_time = []\n",
    "    for sense_data_zip in sense_datas_zip:\n",
    "        # 每个时刻\n",
    "        distances = []\n",
    "        for sensor, sense_data in zip(sensors_list, sense_data_zip):\n",
    "            # 每一个嗅探设备\n",
    "            distance = calculate_distance(sense_data, sensor, **cal_kws)\n",
    "            distances.append((sensor['id'], distance))\n",
    "        distances_across_time.append(distances)\n",
    "    if average:\n",
    "        print('average distance')\n",
    "        return average_distance(distances_across_time)\n",
    "    return distances_across_time"
   ]
  },
  {
   "cell_type": "code",
   "execution_count": 7,
   "metadata": {},
   "outputs": [
    {
     "name": "stdout",
     "output_type": "stream",
     "text": [
      "average distance\n"
     ]
    },
    {
     "data": {
      "text/plain": [
       "[[('00f4041c', 6.860624286177789),\n",
       "  ('00f40443', 3.2422480387320523),\n",
       "  ('00f40463', 4.056993670178649)]]"
      ]
     },
     "execution_count": 7,
     "metadata": {},
     "output_type": "execute_result"
    }
   ],
   "source": [
    "dis = get_distances(tmp_sensors,sense_datas,average_in_distance)\n",
    "dis"
   ]
  },
  {
   "cell_type": "markdown",
   "metadata": {},
   "source": [
    "## Get Positions"
   ]
  },
  {
   "cell_type": "markdown",
   "metadata": {},
   "source": [
    "### 画图部分：每计算一次位置就会画一次，多次叠加在一张图上:\n",
    "平均距离之后，只计算一次位置;平均位置的话，会计算多次位置的叠加"
   ]
  },
  {
   "cell_type": "code",
   "execution_count": 8,
   "metadata": {},
   "outputs": [],
   "source": [
    "def CM_plot(dis,rs,point,points,ax):\n",
    "    print(point)\n",
    "    import matplotlib.pyplot as plt\n",
    "    from matplotlib.patches import Circle\n",
    "    #fig = plt.figure()\n",
    "    #ax = fig.add_subplot(111)\n",
    "    # 圆心\n",
    "    for i in range(3):\n",
    "        plt.plot(rs[i][0],rs[i][1],'g.')\n",
    "        cir1 = Circle(xy = rs[i], radius=dis[i], alpha=0.1)\n",
    "        ax.add_patch(cir1)\n",
    "    # 三个圆两两的交点，并且连成三角形\n",
    "    for i,p in enumerate(points):\n",
    "        plt.plot(p[0],p[1],'b.')\n",
    "        plt.plot([points[i][0],points[(i+1)%3][0]],[points[i][1],points[(i+1)%3][1]],label='sin')\n",
    "        #ax.annotate(i,(p[0],p[1]))\n",
    "\n",
    "    # 最终的定位点                       \n",
    "    plt.plot(point[0],point[1],'r.')\n",
    "\n",
    "    plt.axis('scaled')\n",
    "    plt.axis('equal') \n",
    "    plt.title('Indoor Location')\n",
    "    #plt.show()\n",
    "\n",
    "def LSM_plot(dis,rs,point,ax):\n",
    "    print(point)\n",
    "    import matplotlib.pyplot as plt\n",
    "    from matplotlib.patches import Circle\n",
    "    \n",
    "    # 圆心\n",
    "    for i in range(3):\n",
    "        plt.plot(rs[i][0],rs[i][1],'g.')\n",
    "        cir1 = Circle(xy = rs[i], radius=dis[i], alpha=0.1)\n",
    "        ax.add_patch(cir1)\n",
    "\n",
    "    # 最终的定位点                       \n",
    "    plt.plot(point[0],point[1],'r.')\n",
    "\n",
    "    plt.axis('scaled')\n",
    "    plt.axis('equal')   \n",
    "    plt.title('Indoor Location')\n",
    "    #plt.show()\n"
   ]
  },
  {
   "cell_type": "code",
   "execution_count": 9,
   "metadata": {},
   "outputs": [],
   "source": [
    "def cal_position_CM(distances: Distances,\n",
    "                       sensors: Sensors,\n",
    "                   ax) -> Point:\n",
    "    '''根据距离和嗅探器位置，计算某一时刻的坐标\n",
    "    返回值:point是最终的定位点\n",
    "    如果两个圆有交点，验证第三个圆的半径和这个交点到圆心的距离是否相等，后者允许一定误差，若相等，算出近似交点；\n",
    "    如果没有近似交点，返回三个模拟交点（每个模拟交点这样计算：相切就是切点，相离按比例取圆心连线上某点，相交取两个交点的中点）的平均。\n",
    "    '''\n",
    "    import math\n",
    "    point = [0, 0]\n",
    "    points = []  # 某两个圆的交点-可用于debug\n",
    "    points3 = []\n",
    "    \n",
    "    dis = []  # dis是测得的距离数组\n",
    "    rs = []  # rs是路由器位置（二维数组）\n",
    "    for distance in distances:  # 每个嗅探设备\n",
    "        dis.append(distance[1])\n",
    "        rs.append([sensors[distance[0]]['x'], sensors[distance[0]]['y']])\n",
    "        \n",
    "    assert (len(dis) == 3)\n",
    "    assert (len(rs) == 3 and len(rs[0]) == 2)\n",
    "    e = 0.2  # 允许的误差范围\n",
    "    found = False  # 是否已经找到近似交点\n",
    "    tmpx, tmpy = 0, 0\n",
    "    tmpx1, tmpy1 = 0, 0\n",
    "    tmpx2, tmpy2 = 0, 0\n",
    "    for i in range(3):\n",
    "        assert (dis[i] >= 0)\n",
    "        if found:\n",
    "            break\n",
    "        for j in range(i + 1, 3):\n",
    "            # 路由器间的距离\n",
    "            p2p = math.sqrt((rs[i][0] - rs[j][0]) * (rs[i][0] - rs[j][0]) +\n",
    "                            (rs[i][1] - rs[j][1]) * (rs[i][1] - rs[j][1]))\n",
    "            if dis[i] + dis[j] >= p2p:  # 两圆有交点\n",
    "                dr = p2p / 2 + (dis[i] * dis[i] - dis[j] * dis[j]) / (2 * p2p)\n",
    "                ddr = math.sqrt(abs(dis[i] * dis[i] - dr * dr))\n",
    "                # 两个交点的中点\n",
    "                tmpx = rs[i][0] + (rs[j][0] - rs[i][0]) * dr / p2p\n",
    "                tmpy = rs[i][1] + (rs[j][1] - rs[i][1]) * dr / p2p\n",
    "                cos = -(rs[j][1] - rs[i][1]) / p2p\n",
    "                sin = (rs[j][0] - rs[i][0]) / p2p\n",
    "                # 两个or一个交点\n",
    "                tmpx1 = tmpx + ddr * cos\n",
    "                tmpx2 = tmpx - ddr * cos\n",
    "                tmpy1 = tmpy + ddr * sin\n",
    "                tmpy2 = tmpy - ddr * sin\n",
    "                points.append([tmpx1, tmpy1])\n",
    "                points.append([tmpx2, tmpy2])\n",
    "            else:  # 两圆不相交 - 按比例模拟的交点\n",
    "                tmpx = rs[i][0] + (rs[j][0] - rs[i][0]) * dis[i] / (dis[i] + dis[j])\n",
    "                tmpy = rs[i][1] + (rs[j][1] - rs[i][1]) * dis[i] / (dis[i] + dis[j])\n",
    "\n",
    "            # 两个圆有交点，看第三个圆的情况\n",
    "            if dis[i] + dis[j] >= p2p:\n",
    "                k = 3 - i - j\n",
    "                dev1 = math.sqrt((tmpx1 - rs[k][0]) * (tmpx1 - rs[k][0]) +\n",
    "                                 (tmpy1 - rs[k][1]) * (tmpy1 - rs[k][1]))\n",
    "                if dev1 <= dis[k] + e and dev1 >= dis[k] - e:\n",
    "                    point[0] = tmpx1 + (rs[k][0] - tmpx1) * (1 / 2 - dis[k] / (2 * dev1))\n",
    "                    point[1] = tmpy1 + (rs[k][1] - tmpx1) * (1 / 2 - dis[k] / (2 * dev1))\n",
    "                    found = True\n",
    "                    break\n",
    "                dev2 = math.sqrt((tmpx2 - rs[k][0]) * (tmpx2 - rs[k][0]) +\n",
    "                                 (tmpy2 - rs[k][1]) * (tmpy2 - rs[k][1]))\n",
    "                if dev2 <= dis[k] + e and dev2 >= dis[k] - e:\n",
    "                    point[0] = tmpx2 + (rs[k][0] - tmpx2) * (1 / 2 - dis[k] / (2 * dev2))\n",
    "                    point[1] = tmpy2 + (rs[k][1] - tmpx2) * (1 / 2 - dis[k] / (2 * dev2))\n",
    "                    found = True\n",
    "                    break\n",
    "            # 没有近似交点\n",
    "            point[0] += tmpx\n",
    "            point[1] += tmpy\n",
    "            points3.append([tmpx,tmpy])\n",
    "            \n",
    "    if not found:\n",
    "        point[0] /= 3\n",
    "        point[1] /= 3\n",
    "\n",
    "    CM_plot(dis,rs,point,points3,ax)\n",
    "    \n",
    "    return point\n",
    "\n",
    "def cal_position_LSM(distances: Distances,\n",
    "                       sensors: Sensors,\n",
    "                        ax) -> Point:\n",
    "    '''\n",
    "    最小二乘法计算定位点\n",
    "    最小化 $\\Sigma( (x-x_i)^2 + (y - y_i)^2 - di^2 )$ 即|AX-B|\n",
    "    '''\n",
    "    import numpy as np\n",
    "    dis = []    #dis是测得的距离数组\n",
    "    rs = []     #rs是路由器位置（二维数组）\n",
    "    for distance in distances:#每个嗅探设备\n",
    "        dis.append(distance[1])\n",
    "        rs.append([sensors[distance[0]]['x'],sensors[distance[0]]['y']])\n",
    "    assert(len(dis) == 3)\n",
    "    assert(len(rs) == 3 and len(rs[0]) == 2) \n",
    "    rs = np.array(rs)                \n",
    "    A = np.array([2*(rs[1]- rs[0]),2*(rs[2]-rs[1])]) \n",
    "    B = np.array([[pow(dis[0],2) - pow(dis[1],2) - pow(rs[0][0],2) - pow(rs[0][1],2) + pow(rs[1][0],2) + pow(rs[1][1],2)],\\\n",
    "                  [pow(dis[1],2) - pow(dis[2],2) - pow(rs[1][0],2) - pow(rs[1][1],2) + pow(rs[2][0],2) + pow(rs[2][1],2)]])\n",
    "    X = np.dot(np.linalg.inv(np.dot(A.T,A)),np.dot(A.T,B))\n",
    "    \n",
    "    LSM_plot(dis,rs,X,ax)\n",
    "    \n",
    "    return [X[0],X[1]]\n",
    "\n",
    "def average_position(points:List[Point]) -> List[Point]:\n",
    "    '''\n",
    "    平均多个时刻的Point为一个时刻的Point\n",
    "    '''\n",
    "    x = 0\n",
    "    y = 0\n",
    "    length = len(points)\n",
    "    for p in points:\n",
    "        x += p[0]\n",
    "        y += p[1]\n",
    "    return [(x/length,y/length)]\n",
    "\n",
    "def get_positions(distances_across_time: List[Distances],\n",
    "                  sensors: Sensors,\n",
    "                  true_position:Point,\n",
    "                  way:str ='LSM',\n",
    "                  average: bool = False\n",
    "                  ) -> List[Point]:\n",
    "    '''计算每个时刻，根据距离计算出的坐标\n",
    "    average表示是否在计算坐标时进行平均，默认不进行平均\n",
    "    way表示用什么方法计算坐标点，'LSM'表示用最小二乘法计算，否则用之前的算法，默认用最小二乘法\n",
    "    '''\n",
    "    import matplotlib.pyplot as plt\n",
    "    fig = plt.figure(figsize=(12, 12))\n",
    "    ax = fig.add_subplot(111)\n",
    "    if way == 'LSM':\n",
    "        positions = [cal_position_LSM(distances, sensors, ax) for distances in distances_across_time]      \n",
    "    else:\n",
    "        positions = [cal_position_CM(distances, sensors, ax) for distances in distances_across_time]\n",
    "    \n",
    "    plt.plot(true_position[0],true_position[1],'r*')\n",
    "    if average:\n",
    "        return average_position(positions)\n",
    "    return positions"
   ]
  },
  {
   "cell_type": "code",
   "execution_count": 10,
   "metadata": {},
   "outputs": [
    {
     "name": "stdout",
     "output_type": "stream",
     "text": [
      "[[2.77541536]\n",
      " [6.89196045]]\n",
      "final position\n",
      "[[array([2.77541536]), array([6.89196045])]]\n"
     ]
    },
    {
     "data": {
      "image/png": "[encoded data removed]",
      "text/plain": [
       "<Figure size 864x864 with 1 Axes>"
      ]
     },
     "metadata": {
      "needs_background": "light"
     },
     "output_type": "display_data"
    }
   ],
   "source": [
    "final_position = get_positions(dis,tmp_sensors,true_position,way,average_in_position)\n",
    "print(\"final position\")\n",
    "print(final_position)"
   ]
  },
  {
   "cell_type": "code",
   "execution_count": null,
   "metadata": {},
   "outputs": [],
   "source": []
  }
 ],
 "metadata": {
  "kernelspec": {
   "display_name": "Python 3",
   "language": "python",
   "name": "python3"
  },
  "language_info": {
   "codemirror_mode": {
    "name": "ipython",
    "version": 3
   },
   "file_extension": ".py",
   "mimetype": "text/x-python",
   "name": "python",
   "nbconvert_exporter": "python",
   "pygments_lexer": "ipython3",
   "version": "3.8.5"
  }
 },
 "nbformat": 4,
 "nbformat_minor": 4
}
